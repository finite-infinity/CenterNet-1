{
 "cells": [
  {
   "cell_type": "code",
   "execution_count": 1,
   "metadata": {},
   "outputs": [
    {
     "name": "stdout",
     "output_type": "stream",
     "text": [
      "1.1.0\n"
     ]
    }
   ],
   "source": [
    "import torch\n",
    "print(torch.__version__)"
   ]
  },
  {
   "cell_type": "code",
   "execution_count": 2,
   "metadata": {
    "colab": {
     "base_uri": "https://localhost:8080/",
     "height": 485
    },
    "executionInfo": {
     "elapsed": 1050,
     "status": "ok",
     "timestamp": 1623324848387,
     "user": {
      "displayName": "zhang adamzhg",
      "photoUrl": "",
      "userId": "12051634718662033107"
     },
     "user_tz": -480
    },
    "id": "lpI48UoxjU9o",
    "outputId": "c8dff3ce-d541-49a1-adb8-5a7c77b23dbb"
   },
   "outputs": [
    {
     "name": "stdout",
     "output_type": "stream",
     "text": [
      "/home/alex/works/Centernet/CenterNet\n"
     ]
    }
   ],
   "source": [
    "%cd /home/alex/works/Centernet/CenterNet"
   ]
  },
  {
   "cell_type": "code",
   "execution_count": null,
   "metadata": {},
   "outputs": [
    {
     "name": "stdout",
     "output_type": "stream",
     "text": [
      "Fix size testing.\n",
      "training chunk_sizes: [1]\n",
      "The output will be saved to  /home/alex/works/Centernet/CenterNet/src/lib/../../exp/ctdet/default\n",
      "heads {'hm': 1, 'wh': 2, 'reg': 2}\n",
      "******************************it is gpu working\n",
      "Creating model...\n",
      "loaded /home/alex/works/Centernet/CenterNet/exp/ctdet/coco_gatebee/model_best.pth, epoch 75\n",
      "**************************************************it is the bee dataset\n"
     ]
    }
   ],
   "source": [
    "%run ./src/my_demo.py ctdet --demo ./images --load_model /home/alex/works/Centernet/CenterNet/exp/ctdet/coco_gatebee/model_best.pth --debug 3\n",
    "#python ./src/demo.py ctdet --demo ./images --load_model ./models/ctdet_coco_dla_2x.pth --debug 3"
   ]
  },
  {
   "cell_type": "code",
   "execution_count": null,
   "metadata": {},
   "outputs": [],
   "source": []
  }
 ],
 "metadata": {
  "accelerator": "GPU",
  "colab": {
   "authorship_tag": "ABX9TyP6VnQ3P23w8ogPqyKHw9Lo",
   "collapsed_sections": [],
   "mount_file_id": "1gZaYz4dCV7oBzqnhRht91veU3Bj2VWas",
   "name": "mycenternet.ipynb",
   "provenance": []
  },
  "kernelspec": {
   "display_name": "pytorchvenv",
   "language": "python",
   "name": "pytorchvenv"
  },
  "language_info": {
   "codemirror_mode": {
    "name": "ipython",
    "version": 3
   },
   "file_extension": ".py",
   "mimetype": "text/x-python",
   "name": "python",
   "nbconvert_exporter": "python",
   "pygments_lexer": "ipython3",
   "version": "3.6.8"
  }
 },
 "nbformat": 4,
 "nbformat_minor": 1
}
